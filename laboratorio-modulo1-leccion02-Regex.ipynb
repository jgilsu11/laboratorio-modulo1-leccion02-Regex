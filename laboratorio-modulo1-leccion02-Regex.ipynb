{
 "cells": [
  {
   "cell_type": "markdown",
   "metadata": {},
   "source": [
    "<div style=\"text-align: center;\">\n",
    "  <img src=\"https://github.com/Hack-io-Data/Imagenes/blob/main/01-LogosHackio/logo_naranja@4x.png?raw=true\" alt=\"esquema\" />\n",
    "</div>"
   ]
  },
  {
   "cell_type": "markdown",
   "metadata": {},
   "source": [
    "# Laboratorio de Regex:"
   ]
  },
  {
   "cell_type": "markdown",
   "metadata": {},
   "source": [
    "### Ejercicio 1: Extracción de datos.\n",
    "\n",
    "Recuerda que necesitamos hacer importaciones antes de enfrentarnos a un problema. "
   ]
  },
  {
   "cell_type": "code",
   "execution_count": 3,
   "metadata": {},
   "outputs": [],
   "source": [
    "# Importaciones:\n",
    "## Para trabajar con expresiones regulares\n",
    "import re \n",
    "\n",
    "## Para contar las palabras de un texto \n",
    "from collections import Counter "
   ]
  },
  {
   "cell_type": "markdown",
   "metadata": {},
   "source": [
    "Dado el archivo `datos_artistas.txt` usa las **expresiones regulares** para extraer los siguientes datos, con el código que encontrarás en la siguiente celda:"
   ]
  },
  {
   "cell_type": "code",
   "execution_count": 4,
   "metadata": {},
   "outputs": [
    {
     "name": "stdout",
     "output_type": "stream",
     "text": [
      "BobDylan bob.dylan@gmail.com -1 123456789 http://bobdylan.com Like a Rolling Stone - 6:13 1965 Once upon a time you dressed so fine\n",
      "Threw the bums a dime in your prime, didn't you?\n",
      "People call say 'be\n",
      "<class 'str'>\n"
     ]
    }
   ],
   "source": [
    "with open('Datos/datos_artistas.txt', 'r', encoding = \"UTF-8\") as archivo: #UTF-8 es un codificador de windows porque con el charmap no se puede\n",
    "    contenido = archivo.read()\n",
    "    # Aquí puedes trabajar con el contenido del archivo\n",
    "\n",
    "print(contenido[:200])\n",
    "print(type(contenido))"
   ]
  },
  {
   "cell_type": "markdown",
   "metadata": {},
   "source": [
    "#### 1.1 La información de cada artista(nombre, correo de contacto, número de contacto y sitio web)."
   ]
  },
  {
   "cell_type": "code",
   "execution_count": 5,
   "metadata": {},
   "outputs": [
    {
     "data": {
      "text/plain": [
       "[{'nombre': 'BobDylan',\n",
       "  'correo': 'bob.dylan@gmail.com',\n",
       "  'numero': '123456789',\n",
       "  'web': 'http://bobdylan.com'},\n",
       " {'nombre': 'TheBeatles',\n",
       "  'correo': 'contact@thebeatles.co.uk',\n",
       "  'numero': '234567890',\n",
       "  'web': 'http://thebeatles.co.uk'},\n",
       " {'nombre': 'EltonJohn',\n",
       "  'correo': 'elton.john@hotmail.com',\n",
       "  'numero': '345678901',\n",
       "  'web': 'http://eltonjohn.com'},\n",
       " {'nombre': 'Queen',\n",
       "  'correo': 'info@queenonline.com',\n",
       "  'numero': '456789012',\n",
       "  'web': 'http://queenonline.com'},\n",
       " {'nombre': 'MichaelJackson',\n",
       "  'correo': 'michael.jackson@yahoo.com',\n",
       "  'numero': '567890123',\n",
       "  'web': 'http://michaeljackson.com'},\n",
       " {'nombre': 'Madonna',\n",
       "  'correo': 'madonna@madonna.com',\n",
       "  'numero': '678901234',\n",
       "  'web': 'http://madonna.com'},\n",
       " {'nombre': 'DavidBowie',\n",
       "  'correo': 'david.bowie@outlook.com',\n",
       "  'numero': '789012345',\n",
       "  'web': 'http://davidbowie.com'},\n",
       " {'nombre': 'Nirvana',\n",
       "  'correo': 'contact@nirvana.com',\n",
       "  'numero': '890123456',\n",
       "  'web': 'http://nirvana.com'},\n",
       " {'nombre': 'Adele',\n",
       "  'correo': 'adele@adele.com',\n",
       "  'numero': '901234567',\n",
       "  'web': 'http://adele.com'},\n",
       " {'nombre': 'EdSheeran',\n",
       "  'correo': 'ed.sheeran@gmail.com',\n",
       "  'numero': '123456789',\n",
       "  'web': 'http://edsheeran.com'},\n",
       " {'nombre': 'Beyoncé',\n",
       "  'correo': 'beyonce@beyonce.com',\n",
       "  'numero': '234567890',\n",
       "  'web': 'http://beyonce.com'},\n",
       " {'nombre': 'TaylorSwift',\n",
       "  'correo': 'taylor.swift@yahoo.com',\n",
       "  'numero': '345678901',\n",
       "  'web': 'http://taylorswift.com'},\n",
       " {'nombre': 'Rihanna',\n",
       "  'correo': 'rihanna@hotmail.com',\n",
       "  'numero': '456789012',\n",
       "  'web': 'http://rihanna.com'},\n",
       " {'nombre': 'Drake,',\n",
       "  'correo': 'drake@drake.com',\n",
       "  'numero': '567890123,',\n",
       "  'web': 'http://drake.com'},\n",
       " {'nombre': 'KanyeWest',\n",
       "  'correo': 'kanye.west@gmail.com',\n",
       "  'numero': '678901234',\n",
       "  'web': 'http://kanyewest.com'},\n",
       " {'nombre': 'BrunoMars',\n",
       "  'correo': 'bruno.mars@outlook.com',\n",
       "  'numero': '789012345',\n",
       "  'web': 'https://brunomars.com'},\n",
       " {'nombre': 'ArianaGrande',\n",
       "  'correo': 'ariana.grande@yahoo.com',\n",
       "  'numero': '890123456',\n",
       "  'web': 'https://arianagrande.com'},\n",
       " {'nombre': 'Shakira,',\n",
       "  'correo': 'shakira@hotmail.com',\n",
       "  'numero': '123456789,',\n",
       "  'web': 'http://shakira.com'},\n",
       " {'nombre': 'Coldplay',\n",
       "  'correo': 'info@coldplay.com',\n",
       "  'numero': '234567890',\n",
       "  'web': 'http://coldplay.com'},\n",
       " {'nombre': 'LadyGaga',\n",
       "  'correo': 'lady.gaga@gmail.com',\n",
       "  'numero': '345678901',\n",
       "  'web': 'https://ladygaga.com'}]"
      ]
     },
     "execution_count": 5,
     "metadata": {},
     "output_type": "execute_result"
    }
   ],
   "source": [
    "lista_contenido= contenido.split(\"./\")# Me da una lista de strings\n",
    "\n",
    "lista_de_artistas=[]\n",
    "def string_lista(cadena):\n",
    "    patron=\".*\\.[a-z]{2,3}\"\n",
    "    resultado= re.findall(patron, cadena)\n",
    "    lista_de_artistas.append(resultado[0]) #Lista de artistas es una lista recortada con strings\n",
    "\n",
    "def crea_diccionarios(string_art): #No entiendo muy bien que string iría sustituyendo a string_art si tanto lista de contenido como lista de artistas son listas\n",
    "    lista_info_art=string_art.split()\n",
    "\n",
    "    nombre= lista_info_art[0]\n",
    "    correo= lista_info_art[1]\n",
    "    numero= lista_info_art[3]\n",
    "    web= lista_info_art[4]\n",
    "\n",
    "    diccionario= {\n",
    "        \"nombre\": nombre,\n",
    "        \"correo\": correo,\n",
    "        \"numero\": numero,\n",
    "        \"web\": web\n",
    "    }\n",
    "    \n",
    "    return diccionario\n",
    "\n",
    "list(map(string_lista, lista_contenido))\n",
    "list(map(crea_diccionarios,lista_de_artistas ))\n",
    "\n",
    "\n"
   ]
  },
  {
   "cell_type": "markdown",
   "metadata": {},
   "source": [
    "#### 1.2 La información de cada canción(título, duración y fecha de lanzamiento)."
   ]
  },
  {
   "cell_type": "code",
   "execution_count": 18,
   "metadata": {},
   "outputs": [
    {
     "data": {
      "text/plain": [
       "[{'titulo': 'Like a Rolling Stone', 'duracion': '6:13', 'fecha': '1965'},\n",
       " {'titulo': 'Like a Rolling Stone', 'duracion': '6:13', 'fecha': '1965'},\n",
       " {'titulo': 'Like a Rolling Stone', 'duracion': '6:13', 'fecha': '1965'},\n",
       " {'titulo': 'Like a Rolling Stone', 'duracion': '6:13', 'fecha': '1965'},\n",
       " {'titulo': 'Like a Rolling Stone', 'duracion': '6:13', 'fecha': '1965'},\n",
       " {'titulo': 'Like a Rolling Stone', 'duracion': '6:13', 'fecha': '1965'},\n",
       " {'titulo': 'Like a Rolling Stone', 'duracion': '6:13', 'fecha': '1965'},\n",
       " {'titulo': 'Like a Rolling Stone', 'duracion': '6:13', 'fecha': '1965'},\n",
       " {'titulo': 'Like a Rolling Stone', 'duracion': '6:13', 'fecha': '1965'},\n",
       " {'titulo': 'Like a Rolling Stone', 'duracion': '6:13', 'fecha': '1965'},\n",
       " {'titulo': 'Like a Rolling Stone', 'duracion': '6:13', 'fecha': '1965'},\n",
       " {'titulo': 'Like a Rolling Stone', 'duracion': '6:13', 'fecha': '1965'},\n",
       " {'titulo': 'Like a Rolling Stone', 'duracion': '6:13', 'fecha': '1965'},\n",
       " {'titulo': 'Like a Rolling Stone', 'duracion': '6:13', 'fecha': '1965'},\n",
       " {'titulo': 'Like a Rolling Stone', 'duracion': '6:13', 'fecha': '1965'},\n",
       " {'titulo': 'Like a Rolling Stone', 'duracion': '6:13', 'fecha': '1965'},\n",
       " {'titulo': 'Like a Rolling Stone', 'duracion': '6:13', 'fecha': '1965'},\n",
       " {'titulo': 'Like a Rolling Stone', 'duracion': '6:13', 'fecha': '1965'},\n",
       " {'titulo': 'Like a Rolling Stone', 'duracion': '6:13', 'fecha': '1965'},\n",
       " {'titulo': 'Like a Rolling Stone', 'duracion': '6:13', 'fecha': '1965'}]"
      ]
     },
     "execution_count": 18,
     "metadata": {},
     "output_type": "execute_result"
    }
   ],
   "source": [
    "lista_contenido= contenido.split(\"./\")\n",
    "\n",
    "\n",
    "lista_de_canciones=[]   \n",
    "def string_lista(cadena):\n",
    "    patron=\"\\.[a-z]{2,3}\\s(\\w+.*)\"  \n",
    "    resultado= re.findall(patron, contenido)\n",
    "    lista_de_canciones.append(resultado[0])   \n",
    "\n",
    "def crea_diccionarios(string_can): \n",
    "    lista_info_can=string_can.split()\n",
    "\n",
    "    titulo= \" \".join(lista_info_can[0:4])\n",
    "    duracion= lista_info_can[5]\n",
    "    fecha= lista_info_can[6]\n",
    "    \n",
    "\n",
    "    diccionario= {\n",
    "        \"titulo\": titulo,\n",
    "        \"duracion\": duracion,\n",
    "        \"fecha\": fecha,\n",
    "       \n",
    "    }\n",
    "    \n",
    "    return diccionario\n",
    "\n",
    "list(map(string_lista, lista_contenido))\n",
    "list(map(crea_diccionarios,lista_de_canciones ))"
   ]
  },
  {
   "cell_type": "markdown",
   "metadata": {},
   "source": [
    "#### 1.3 Almacena la información en una lista de diccionarios donde cada diccionario contenga los datos de un artista y su canción asociada."
   ]
  },
  {
   "cell_type": "code",
   "execution_count": null,
   "metadata": {},
   "outputs": [],
   "source": [
    "#Este no me da tiempo (Me he puesto por la mañana y estaba más lúcido, por eso he sido capaz de llegar hasta aquí pero ya no me daba tiempo a seguir)\n",
    "#Aquí a lo mejor haría algo con las mayúsculas porque tanto el artista como la canción aparecen en mayusculas"
   ]
  },
  {
   "cell_type": "markdown",
   "metadata": {},
   "source": [
    "### Ejercicio 2: Análisis de datos\n",
    "Usa las **expresiones regulares** para extraer la siguiente información:"
   ]
  },
  {
   "cell_type": "markdown",
   "metadata": {},
   "source": [
    "#### 2.1 Busca la palabra más repetida en el texto completo.\n"
   ]
  },
  {
   "cell_type": "code",
   "execution_count": 19,
   "metadata": {},
   "outputs": [],
   "source": []
  },
  {
   "cell_type": "markdown",
   "metadata": {},
   "source": [
    "#### 2.2 Busca la palabra que más repetida en cada cación.\n"
   ]
  },
  {
   "cell_type": "code",
   "execution_count": 11,
   "metadata": {},
   "outputs": [],
   "source": []
  },
  {
   "cell_type": "markdown",
   "metadata": {},
   "source": [
    "#### 2.3 Busca el nombre de la canción que más dura.\n"
   ]
  },
  {
   "cell_type": "code",
   "execution_count": 30,
   "metadata": {},
   "outputs": [],
   "source": []
  },
  {
   "cell_type": "markdown",
   "metadata": {},
   "source": [
    "#### 2.4 Busca el nombre de la canción que menos dura."
   ]
  },
  {
   "cell_type": "code",
   "execution_count": null,
   "metadata": {},
   "outputs": [],
   "source": []
  },
  {
   "cell_type": "markdown",
   "metadata": {},
   "source": [
    "#### 2.5 Busca el nombre y la fecha de lanzamiento de la canción más actual."
   ]
  },
  {
   "cell_type": "code",
   "execution_count": 39,
   "metadata": {},
   "outputs": [],
   "source": []
  },
  {
   "cell_type": "markdown",
   "metadata": {},
   "source": [
    "#### 2.6 Calcula la cantidad de países a partir de los números de contacto."
   ]
  },
  {
   "cell_type": "code",
   "execution_count": 43,
   "metadata": {},
   "outputs": [],
   "source": []
  },
  {
   "cell_type": "markdown",
   "metadata": {},
   "source": [
    "#### 2.7 Agrupa las canciones por década."
   ]
  },
  {
   "cell_type": "code",
   "execution_count": 47,
   "metadata": {},
   "outputs": [],
   "source": [
    "#group by quizá"
   ]
  }
 ],
 "metadata": {
  "kernelspec": {
   "display_name": "Python 3",
   "language": "python",
   "name": "python3"
  },
  "language_info": {
   "codemirror_mode": {
    "name": "ipython",
    "version": 3
   },
   "file_extension": ".py",
   "mimetype": "text/x-python",
   "name": "python",
   "nbconvert_exporter": "python",
   "pygments_lexer": "ipython3",
   "version": "3.11.9"
  }
 },
 "nbformat": 4,
 "nbformat_minor": 2
}
