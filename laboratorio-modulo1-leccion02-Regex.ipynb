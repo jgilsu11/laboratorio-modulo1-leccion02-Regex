{
 "cells": [
  {
   "cell_type": "markdown",
   "metadata": {},
   "source": [
    "<div style=\"text-align: center;\">\n",
    "  <img src=\"https://github.com/Hack-io-Data/Imagenes/blob/main/01-LogosHackio/logo_naranja@4x.png?raw=true\" alt=\"esquema\" />\n",
    "</div>"
   ]
  },
  {
   "cell_type": "markdown",
   "metadata": {},
   "source": [
    "# Laboratorio de Regex:"
   ]
  },
  {
   "cell_type": "markdown",
   "metadata": {},
   "source": [
    "### Ejercicio 1: Extracción de datos.\n",
    "\n",
    "Recuerda que necesitamos hacer importaciones antes de enfrentarnos a un problema. "
   ]
  },
  {
   "cell_type": "code",
   "execution_count": 1,
   "metadata": {},
   "outputs": [],
   "source": [
    "# Importaciones:\n",
    "## Para trabajar con expresiones regulares\n",
    "import re \n",
    "\n",
    "## Para contar las palabras de un texto \n",
    "from collections import Counter "
   ]
  },
  {
   "cell_type": "markdown",
   "metadata": {},
   "source": [
    "Dado el archivo `datos_artistas.txt` usa las **expresiones regulares** para extraer los siguientes datos, con el código que encontrarás en la siguiente celda:"
   ]
  },
  {
   "cell_type": "code",
   "execution_count": 2,
   "metadata": {},
   "outputs": [
    {
     "name": "stdout",
     "output_type": "stream",
     "text": [
      "BobDylan bob.dylan@gmail.com -1 123456789 http://bobdylan.com Like a Rolling Stone - 6:13 1965 Once upon a time you dressed so fine\n",
      "Threw the bums a dime in your prime, didn't you?\n",
      "People call say 'be\n",
      "<class 'str'>\n"
     ]
    }
   ],
   "source": [
    "with open('Datos/datos_artistas.txt', 'r', encoding = \"UTF-8\") as archivo: #UTF-8 es un codificador de windows porque con el charmap no se puede\n",
    "    contenido = archivo.read()\n",
    "    # Aquí puedes trabajar con el contenido del archivo\n",
    "\n",
    "print(contenido[:200])\n",
    "print(type(contenido))"
   ]
  },
  {
   "cell_type": "markdown",
   "metadata": {},
   "source": [
    "#### 1.1 La información de cada artista(nombre, correo de contacto, número de contacto y sitio web)."
   ]
  },
  {
   "cell_type": "code",
   "execution_count": 199,
   "metadata": {},
   "outputs": [
    {
     "data": {
      "text/plain": [
       "[{'nombre': 'BobDylan',\n",
       "  'correo': 'bob.dylan@gmail.com',\n",
       "  'numero': '123456789',\n",
       "  'web': 'http://bobdylan.com'},\n",
       " {'nombre': 'TheBeatles',\n",
       "  'correo': 'contact@thebeatles.co.uk',\n",
       "  'numero': '234567890',\n",
       "  'web': 'http://thebeatles.co.uk'},\n",
       " {'nombre': 'EltonJohn',\n",
       "  'correo': 'elton.john@hotmail.com',\n",
       "  'numero': '345678901',\n",
       "  'web': 'http://eltonjohn.com'},\n",
       " {'nombre': 'Queen',\n",
       "  'correo': 'info@queenonline.com',\n",
       "  'numero': '456789012',\n",
       "  'web': 'http://queenonline.com'},\n",
       " {'nombre': 'MichaelJackson',\n",
       "  'correo': 'michael.jackson@yahoo.com',\n",
       "  'numero': '567890123',\n",
       "  'web': 'http://michaeljackson.com'},\n",
       " {'nombre': 'Madonna',\n",
       "  'correo': 'madonna@madonna.com',\n",
       "  'numero': '678901234',\n",
       "  'web': 'http://madonna.com'},\n",
       " {'nombre': 'DavidBowie',\n",
       "  'correo': 'david.bowie@outlook.com',\n",
       "  'numero': '789012345',\n",
       "  'web': 'http://davidbowie.com'},\n",
       " {'nombre': 'Nirvana',\n",
       "  'correo': 'contact@nirvana.com',\n",
       "  'numero': '890123456',\n",
       "  'web': 'http://nirvana.com'},\n",
       " {'nombre': 'Adele',\n",
       "  'correo': 'adele@adele.com',\n",
       "  'numero': '901234567',\n",
       "  'web': 'http://adele.com'},\n",
       " {'nombre': 'EdSheeran',\n",
       "  'correo': 'ed.sheeran@gmail.com',\n",
       "  'numero': '123456789',\n",
       "  'web': 'http://edsheeran.com'},\n",
       " {'nombre': 'Beyoncé',\n",
       "  'correo': 'beyonce@beyonce.com',\n",
       "  'numero': '234567890',\n",
       "  'web': 'http://beyonce.com'},\n",
       " {'nombre': 'TaylorSwift',\n",
       "  'correo': 'taylor.swift@yahoo.com',\n",
       "  'numero': '345678901',\n",
       "  'web': 'http://taylorswift.com'},\n",
       " {'nombre': 'Rihanna',\n",
       "  'correo': 'rihanna@hotmail.com',\n",
       "  'numero': '456789012',\n",
       "  'web': 'http://rihanna.com'},\n",
       " {'nombre': 'Drake,',\n",
       "  'correo': 'drake@drake.com',\n",
       "  'numero': '567890123,',\n",
       "  'web': 'http://drake.com'},\n",
       " {'nombre': 'KanyeWest',\n",
       "  'correo': 'kanye.west@gmail.com',\n",
       "  'numero': '678901234',\n",
       "  'web': 'http://kanyewest.com'},\n",
       " {'nombre': 'BrunoMars',\n",
       "  'correo': 'bruno.mars@outlook.com',\n",
       "  'numero': '789012345',\n",
       "  'web': 'https://brunomars.com'},\n",
       " {'nombre': 'ArianaGrande',\n",
       "  'correo': 'ariana.grande@yahoo.com',\n",
       "  'numero': '890123456',\n",
       "  'web': 'https://arianagrande.com'},\n",
       " {'nombre': 'Shakira,',\n",
       "  'correo': 'shakira@hotmail.com',\n",
       "  'numero': '123456789,',\n",
       "  'web': 'http://shakira.com'},\n",
       " {'nombre': 'Coldplay',\n",
       "  'correo': 'info@coldplay.com',\n",
       "  'numero': '234567890',\n",
       "  'web': 'http://coldplay.com'},\n",
       " {'nombre': 'LadyGaga',\n",
       "  'correo': 'lady.gaga@gmail.com',\n",
       "  'numero': '345678901',\n",
       "  'web': 'https://ladygaga.com'}]"
      ]
     },
     "execution_count": 199,
     "metadata": {},
     "output_type": "execute_result"
    }
   ],
   "source": [
    "lista_contenido= contenido.split(\"./\")# Me da una lista de strings\n",
    "\n",
    "lista_de_artistas=[]\n",
    "def string_lista(cadena):\n",
    "    patron=\".*\\.[a-z]{2,3}\"\n",
    "    resultado= re.findall(patron, cadena)\n",
    "    lista_de_artistas.append(resultado[0]) #Lista de artistas es una lista recortada con strings\n",
    "\n",
    "def crea_diccionarios(string_art): #al ser una lista de strings si puedo hacer split\n",
    "    lista_info_art=string_art.split()\n",
    "\n",
    "    nombre= lista_info_art[0]\n",
    "    correo= lista_info_art[1]\n",
    "    numero= lista_info_art[3]\n",
    "    web= lista_info_art[4]\n",
    "\n",
    "    diccionario= {\n",
    "        \"nombre\": nombre,\n",
    "        \"correo\": correo,\n",
    "        \"numero\": numero,\n",
    "        \"web\": web\n",
    "    }\n",
    "    \n",
    "    return diccionario\n",
    "\n",
    "list(map(string_lista, lista_contenido))\n",
    "list(map(crea_diccionarios,lista_de_artistas ))\n",
    "\n",
    "\n"
   ]
  },
  {
   "cell_type": "markdown",
   "metadata": {},
   "source": [
    "**Duda**"
   ]
  },
  {
   "cell_type": "code",
   "execution_count": 153,
   "metadata": {},
   "outputs": [
    {
     "data": {
      "text/plain": [
       "[{'nombre': 'BobDylan',\n",
       "  'correo': 'bob.dylan@gmail.com',\n",
       "  'numero': '123456789',\n",
       "  'web': 'http://bobdylan.com'},\n",
       " {'nombre': 'BobDylan',\n",
       "  'correo': 'bob.dylan@gmail.com',\n",
       "  'numero': '123456789',\n",
       "  'web': 'http://bobdylan.com'},\n",
       " {'nombre': 'BobDylan',\n",
       "  'correo': 'bob.dylan@gmail.com',\n",
       "  'numero': '123456789',\n",
       "  'web': 'http://bobdylan.com'},\n",
       " {'nombre': 'BobDylan',\n",
       "  'correo': 'bob.dylan@gmail.com',\n",
       "  'numero': '123456789',\n",
       "  'web': 'http://bobdylan.com'},\n",
       " {'nombre': 'BobDylan',\n",
       "  'correo': 'bob.dylan@gmail.com',\n",
       "  'numero': '123456789',\n",
       "  'web': 'http://bobdylan.com'},\n",
       " {'nombre': 'BobDylan',\n",
       "  'correo': 'bob.dylan@gmail.com',\n",
       "  'numero': '123456789',\n",
       "  'web': 'http://bobdylan.com'},\n",
       " {'nombre': 'BobDylan',\n",
       "  'correo': 'bob.dylan@gmail.com',\n",
       "  'numero': '123456789',\n",
       "  'web': 'http://bobdylan.com'},\n",
       " {'nombre': 'BobDylan',\n",
       "  'correo': 'bob.dylan@gmail.com',\n",
       "  'numero': '123456789',\n",
       "  'web': 'http://bobdylan.com'},\n",
       " {'nombre': 'BobDylan',\n",
       "  'correo': 'bob.dylan@gmail.com',\n",
       "  'numero': '123456789',\n",
       "  'web': 'http://bobdylan.com'},\n",
       " {'nombre': 'BobDylan',\n",
       "  'correo': 'bob.dylan@gmail.com',\n",
       "  'numero': '123456789',\n",
       "  'web': 'http://bobdylan.com'},\n",
       " {'nombre': 'BobDylan',\n",
       "  'correo': 'bob.dylan@gmail.com',\n",
       "  'numero': '123456789',\n",
       "  'web': 'http://bobdylan.com'},\n",
       " {'nombre': 'BobDylan',\n",
       "  'correo': 'bob.dylan@gmail.com',\n",
       "  'numero': '123456789',\n",
       "  'web': 'http://bobdylan.com'},\n",
       " {'nombre': 'BobDylan',\n",
       "  'correo': 'bob.dylan@gmail.com',\n",
       "  'numero': '123456789',\n",
       "  'web': 'http://bobdylan.com'},\n",
       " {'nombre': 'BobDylan',\n",
       "  'correo': 'bob.dylan@gmail.com',\n",
       "  'numero': '123456789',\n",
       "  'web': 'http://bobdylan.com'},\n",
       " {'nombre': 'BobDylan',\n",
       "  'correo': 'bob.dylan@gmail.com',\n",
       "  'numero': '123456789',\n",
       "  'web': 'http://bobdylan.com'},\n",
       " {'nombre': 'BobDylan',\n",
       "  'correo': 'bob.dylan@gmail.com',\n",
       "  'numero': '123456789',\n",
       "  'web': 'http://bobdylan.com'},\n",
       " {'nombre': 'BobDylan',\n",
       "  'correo': 'bob.dylan@gmail.com',\n",
       "  'numero': '123456789',\n",
       "  'web': 'http://bobdylan.com'},\n",
       " {'nombre': 'BobDylan',\n",
       "  'correo': 'bob.dylan@gmail.com',\n",
       "  'numero': '123456789',\n",
       "  'web': 'http://bobdylan.com'},\n",
       " {'nombre': 'BobDylan',\n",
       "  'correo': 'bob.dylan@gmail.com',\n",
       "  'numero': '123456789',\n",
       "  'web': 'http://bobdylan.com'},\n",
       " {'nombre': 'BobDylan',\n",
       "  'correo': 'bob.dylan@gmail.com',\n",
       "  'numero': '123456789',\n",
       "  'web': 'http://bobdylan.com'}]"
      ]
     },
     "execution_count": 153,
     "metadata": {},
     "output_type": "execute_result"
    }
   ],
   "source": [
    "lista_contenido= contenido.split(\"./\")\n",
    "\n",
    "lista_de_artistas=[]\n",
    "def string_lista(cadena):\n",
    "                           #No entiendo porque al borrarlo funciona igual\n",
    "    lista_de_artistas.append(resultado[0]) \n",
    "\n",
    "def crea_diccionarios(string_art): \n",
    "    lista_info_art=string_art.split()\n",
    "\n",
    "    nombre= lista_info_art[0]\n",
    "    correo= lista_info_art[1]\n",
    "    numero= lista_info_art[3]\n",
    "    web= lista_info_art[4]\n",
    "\n",
    "    diccionario= {\n",
    "        \"nombre\": nombre,\n",
    "        \"correo\": correo,\n",
    "        \"numero\": numero,\n",
    "        \"web\": web\n",
    "    }\n",
    "    \n",
    "    return diccionario\n",
    "\n",
    "list(map(string_lista, lista_contenido))\n",
    "list(map(crea_diccionarios,lista_de_artistas ))"
   ]
  },
  {
   "cell_type": "markdown",
   "metadata": {},
   "source": [
    "#### 1.2 La información de cada canción(título, duración y fecha de lanzamiento)."
   ]
  },
  {
   "cell_type": "code",
   "execution_count": 191,
   "metadata": {},
   "outputs": [
    {
     "data": {
      "text/plain": [
       "[{'titulo': 'BobDylan',\n",
       "  'duracion': 'bob.dylan@gmail.com',\n",
       "  'fecha': '123456789'},\n",
       " {'titulo': 'BobDylan',\n",
       "  'duracion': 'bob.dylan@gmail.com',\n",
       "  'fecha': '123456789'},\n",
       " {'titulo': 'BobDylan',\n",
       "  'duracion': 'bob.dylan@gmail.com',\n",
       "  'fecha': '123456789'},\n",
       " {'titulo': 'BobDylan',\n",
       "  'duracion': 'bob.dylan@gmail.com',\n",
       "  'fecha': '123456789'},\n",
       " {'titulo': 'BobDylan',\n",
       "  'duracion': 'bob.dylan@gmail.com',\n",
       "  'fecha': '123456789'},\n",
       " {'titulo': 'BobDylan',\n",
       "  'duracion': 'bob.dylan@gmail.com',\n",
       "  'fecha': '123456789'},\n",
       " {'titulo': 'BobDylan',\n",
       "  'duracion': 'bob.dylan@gmail.com',\n",
       "  'fecha': '123456789'},\n",
       " {'titulo': 'BobDylan',\n",
       "  'duracion': 'bob.dylan@gmail.com',\n",
       "  'fecha': '123456789'},\n",
       " {'titulo': 'BobDylan',\n",
       "  'duracion': 'bob.dylan@gmail.com',\n",
       "  'fecha': '123456789'},\n",
       " {'titulo': 'BobDylan',\n",
       "  'duracion': 'bob.dylan@gmail.com',\n",
       "  'fecha': '123456789'},\n",
       " {'titulo': 'BobDylan',\n",
       "  'duracion': 'bob.dylan@gmail.com',\n",
       "  'fecha': '123456789'},\n",
       " {'titulo': 'BobDylan',\n",
       "  'duracion': 'bob.dylan@gmail.com',\n",
       "  'fecha': '123456789'},\n",
       " {'titulo': 'BobDylan',\n",
       "  'duracion': 'bob.dylan@gmail.com',\n",
       "  'fecha': '123456789'},\n",
       " {'titulo': 'BobDylan',\n",
       "  'duracion': 'bob.dylan@gmail.com',\n",
       "  'fecha': '123456789'},\n",
       " {'titulo': 'BobDylan',\n",
       "  'duracion': 'bob.dylan@gmail.com',\n",
       "  'fecha': '123456789'},\n",
       " {'titulo': 'BobDylan',\n",
       "  'duracion': 'bob.dylan@gmail.com',\n",
       "  'fecha': '123456789'},\n",
       " {'titulo': 'BobDylan',\n",
       "  'duracion': 'bob.dylan@gmail.com',\n",
       "  'fecha': '123456789'},\n",
       " {'titulo': 'BobDylan',\n",
       "  'duracion': 'bob.dylan@gmail.com',\n",
       "  'fecha': '123456789'},\n",
       " {'titulo': 'BobDylan',\n",
       "  'duracion': 'bob.dylan@gmail.com',\n",
       "  'fecha': '123456789'},\n",
       " {'titulo': 'BobDylan',\n",
       "  'duracion': 'bob.dylan@gmail.com',\n",
       "  'fecha': '123456789'}]"
      ]
     },
     "execution_count": 191,
     "metadata": {},
     "output_type": "execute_result"
    }
   ],
   "source": [
    "lista_contenido= contenido.split(\"./\")\n",
    "\n",
    "\n",
    "lista_de_artistas=[]  #Esto si le cambio el nombre y cambio artistas por canciones ya me devuelve una lista vacía\n",
    "def string_lista(cadena):\n",
    "    patron=\"\\.[a-z]{2,3}\\s(\\w+.*)\"  #No entiendo porque no me coge la parte del string que le indico( esta relacionado con que esto es borrable yo creo)\n",
    "    re.findall(patron, contenido)\n",
    "    lista_de_artistas.append(resultado[0])  #Me acabo de dar cuenta que está mal porque los titulos tienen espacios \n",
    "\n",
    "def crea_diccionarios(string_art): \n",
    "    lista_info_art=string_art.split()\n",
    "\n",
    "    titulo= lista_info_art[0]\n",
    "    duracion= lista_info_art[1]\n",
    "    fecha= lista_info_art[3]\n",
    "    \n",
    "\n",
    "    diccionario= {\n",
    "        \"titulo\": titulo,\n",
    "        \"duracion\": duracion,\n",
    "        \"fecha\": fecha,\n",
    "       \n",
    "    }\n",
    "    \n",
    "    return diccionario\n",
    "\n",
    "list(map(string_lista, lista_contenido))\n",
    "list(map(crea_diccionarios,lista_de_artistas ))"
   ]
  },
  {
   "cell_type": "markdown",
   "metadata": {},
   "source": [
    "**Demostración de que el patrón está bien hecho**"
   ]
  },
  {
   "cell_type": "code",
   "execution_count": 195,
   "metadata": {},
   "outputs": [
    {
     "data": {
      "text/plain": [
       "['Like a Rolling Stone - 6:13 1965 Once upon a time you dressed so fine',\n",
       " \"Hey Jude - 7:11 1968 Hey Jude, don't make it bad.\",\n",
       " \"Your Song - 4:01 1970 It's a little bit funny this feeling inside\",\n",
       " 'Bohemian Rhapsody - 5:55 1975 Is this the real life? Is this just fantasy?',\n",
       " 'Billie Jean - 4:54 1982 She was more like a beauty queen from a movie scene',\n",
       " 'Like a Prayer - 5:43 1989 Life is a mystery',\n",
       " 'Space Oddity - 5:18 1969 JH: Nice, nice',\n",
       " 'Smells Like Teen Spirit - 5:01 1991 Load up on guns, bring your friends',\n",
       " \"Someone Like You - 4:45 2011 I heard that you're settled down\",\n",
       " \"Shape of You - 3:53 2017 The club isn't the best place to find a lover\",\n",
       " 'Halo - 4:21 2008 Remember those walls I built?',\n",
       " 'Blank Space - 3:52 2014 Nice to meet you, where you been?',\n",
       " 'Diamonds - 3:45,2012 Shine bright like a diamond',\n",
       " 'Hotline Bling - 4:27 2015 You used to call me on my',\n",
       " 'Stronger - 5:12 2007 Work it, make it, do it',\n",
       " 'Uptown Funk - 4:30 2014 Doh',\n",
       " \"7 Rings - 2:58 2019 Yeah, breakfast at Tiffany's and bottles of bubbles\",\n",
       " \"Hips Don't Lie - 3:38 2006 Ladies up in here tonight\",\n",
       " 'Yellow - 4:26 2000 Look at the stars',\n",
       " 'Bad Romance - 4:54 2009 Oh-oh-oh-oh-oh, oh-oh-oh-oh, oh-oh-oh']"
      ]
     },
     "execution_count": 195,
     "metadata": {},
     "output_type": "execute_result"
    }
   ],
   "source": [
    "patron=\"\\.[a-z]{2,3}\\s(\\w+.*)\" #Como se ve me coge lo que debe cogerme para el 1.2 (aunque no he averiguado como tratar los espacios del titulo)\n",
    "re.findall(patron, contenido)"
   ]
  },
  {
   "cell_type": "code",
   "execution_count": null,
   "metadata": {},
   "outputs": [],
   "source": []
  },
  {
   "cell_type": "markdown",
   "metadata": {},
   "source": [
    "#### 1.3 Almacena la información en una lista de diccionarios donde cada diccionario contenga los datos de un artista y su canción asociada."
   ]
  },
  {
   "cell_type": "code",
   "execution_count": null,
   "metadata": {},
   "outputs": [],
   "source": []
  },
  {
   "cell_type": "markdown",
   "metadata": {},
   "source": [
    "### Ejercicio 2: Análisis de datos\n",
    "Usa las **expresiones regulares** para extraer la siguiente información:"
   ]
  },
  {
   "cell_type": "markdown",
   "metadata": {},
   "source": [
    "#### 2.1 Busca la palabra más repetida en el texto completo.\n"
   ]
  },
  {
   "cell_type": "code",
   "execution_count": 19,
   "metadata": {},
   "outputs": [],
   "source": []
  },
  {
   "cell_type": "markdown",
   "metadata": {},
   "source": [
    "#### 2.2 Busca la palabra que más repetida en cada cación.\n"
   ]
  },
  {
   "cell_type": "code",
   "execution_count": 11,
   "metadata": {},
   "outputs": [],
   "source": []
  },
  {
   "cell_type": "markdown",
   "metadata": {},
   "source": [
    "#### 2.3 Busca el nombre de la canción que más dura.\n"
   ]
  },
  {
   "cell_type": "code",
   "execution_count": 30,
   "metadata": {},
   "outputs": [],
   "source": []
  },
  {
   "cell_type": "markdown",
   "metadata": {},
   "source": [
    "#### 2.4 Busca el nombre de la canción que menos dura."
   ]
  },
  {
   "cell_type": "code",
   "execution_count": null,
   "metadata": {},
   "outputs": [],
   "source": []
  },
  {
   "cell_type": "markdown",
   "metadata": {},
   "source": [
    "#### 2.5 Busca el nombre y la fecha de lanzamiento de la canción más actual."
   ]
  },
  {
   "cell_type": "code",
   "execution_count": 39,
   "metadata": {},
   "outputs": [],
   "source": []
  },
  {
   "cell_type": "markdown",
   "metadata": {},
   "source": [
    "#### 2.6 Calcula la cantidad de países a partir de los números de contacto."
   ]
  },
  {
   "cell_type": "code",
   "execution_count": 43,
   "metadata": {},
   "outputs": [],
   "source": []
  },
  {
   "cell_type": "markdown",
   "metadata": {},
   "source": [
    "#### 2.7 Agrupa las canciones por década."
   ]
  },
  {
   "cell_type": "code",
   "execution_count": 47,
   "metadata": {},
   "outputs": [],
   "source": [
    "#group by quizá"
   ]
  }
 ],
 "metadata": {
  "kernelspec": {
   "display_name": "envpruebas",
   "language": "python",
   "name": "python3"
  },
  "language_info": {
   "codemirror_mode": {
    "name": "ipython",
    "version": 3
   },
   "file_extension": ".py",
   "mimetype": "text/x-python",
   "name": "python",
   "nbconvert_exporter": "python",
   "pygments_lexer": "ipython3",
   "version": "3.11.9"
  }
 },
 "nbformat": 4,
 "nbformat_minor": 2
}
